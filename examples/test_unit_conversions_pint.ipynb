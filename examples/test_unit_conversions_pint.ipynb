{
 "cells": [
  {
   "cell_type": "code",
   "execution_count": 8,
   "metadata": {},
   "outputs": [],
   "source": [
    "import pint\n",
    "\n",
    "# Initialize a Unit Registry\n",
    "ureg = pint.UnitRegistry()\n",
    "\n"
   ]
  },
  {
   "cell_type": "code",
   "execution_count": 11,
   "metadata": {},
   "outputs": [
    {
     "name": "stdout",
     "output_type": "stream",
     "text": [
      "4.00 meter = 13.12 foot\n",
      "5.00 meter = 16.40 foot\n",
      "3.00 meter = 9.84 foot\n"
     ]
    }
   ],
   "source": [
    "# create a list of lengths to convert from meters to feet\n",
    "lengths = [4, 5, 3]\n",
    "\n",
    "# convert each length in the list from meters to feet\n",
    "for length in lengths:\n",
    "    length_in_meters = length * ureg.meter\n",
    "    length_in_feet = length_in_meters.to(ureg.foot)\n",
    "    print(f\"{length_in_meters:.2f} = {length_in_feet:.2f}\")"
   ]
  },
  {
   "cell_type": "code",
   "execution_count": null,
   "metadata": {},
   "outputs": [],
   "source": [
    "# Length Conversion: Meters to Feet\n",
    "length_in_meters = 10  # example value in meters\n",
    "length_in_feet = (length_in_meters * ureg.meter).to(ureg.foot)\n",
    "print(f\"{length_in_meters} meters is {length_in_feet:.2f}\")"
   ]
  },
  {
   "cell_type": "code",
   "execution_count": null,
   "metadata": {},
   "outputs": [],
   "source": [
    "# Force Conversion: Kilonewtons to Pounds-Force\n",
    "force_in_kilonewtons = 5  # example value in kilonewtons\n",
    "force_in_pounds_force = (force_in_kilonewtons * ureg.kilonewton).to(ureg.pound_force)\n",
    "print(f\"{force_in_kilonewtons} kilonewtons is {force_in_pounds_force:.2f}\")"
   ]
  },
  {
   "cell_type": "code",
   "execution_count": null,
   "metadata": {},
   "outputs": [],
   "source": [
    "# Pressure Conversion: Kilopascals to Pounds per Square Foot\n",
    "pressure_in_kilopascals = 100  # example value in kilopascals\n",
    "pressure_in_psf = (pressure_in_kilopascals * ureg.kilopascal).to(\n",
    "    ureg.pound_force / ureg.square_foot\n",
    ")\n",
    "print(f\"{pressure_in_kilopascals} kilopascals is {pressure_in_psf:.2f}\")"
   ]
  },
  {
   "cell_type": "code",
   "execution_count": null,
   "metadata": {},
   "outputs": [],
   "source": [
    "# Unit Weight Conversion: Kilonewtons per Cubic Meter to Pounds per Cubic Foot\n",
    "unit_weight_in_kN_m3 = 20  # example value in kilonewtons per cubic meter\n",
    "unit_weight_in_pcf = (unit_weight_in_kN_m3 * ureg(\"kilonewton/meter**3\")).to(\n",
    "    ureg.pound_force / ureg.cubic_foot\n",
    ")\n",
    "print(f\"{unit_weight_in_kN_m3} kN/m³ is {unit_weight_in_pcf:.2f}\")"
   ]
  }
 ],
 "metadata": {
  "kernelspec": {
   "display_name": "venv",
   "language": "python",
   "name": "python3"
  },
  "language_info": {
   "codemirror_mode": {
    "name": "ipython",
    "version": 3
   },
   "file_extension": ".py",
   "mimetype": "text/x-python",
   "name": "python",
   "nbconvert_exporter": "python",
   "pygments_lexer": "ipython3",
   "version": "3.10.12"
  }
 },
 "nbformat": 4,
 "nbformat_minor": 2
}
